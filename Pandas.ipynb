{
 "cells": [
  {
   "cell_type": "markdown",
   "id": "bfe133bb",
   "metadata": {},
   "source": [
    "# Pandas \n",
    "\n",
    "<img src=\"resources/useful/libraries.png\">"
   ]
  },
  {
   "cell_type": "code",
   "execution_count": null,
   "id": "50d38127",
   "metadata": {},
   "outputs": [],
   "source": [
    "import numpy as np\n",
    "import pandas as pd\n",
    "import seaborn as sns\n",
    "\n",
    "print(np.__version__)\n",
    "print(pd.__version__)\n",
    "print(sns.__version__)\n",
    "\n"
   ]
  },
  {
   "cell_type": "code",
   "execution_count": null,
   "id": "263521d3",
   "metadata": {},
   "outputs": [],
   "source": [
    "#Load dataset from seaborn\n"
   ]
  },
  {
   "cell_type": "code",
   "execution_count": null,
   "id": "5d97ee7b",
   "metadata": {},
   "outputs": [],
   "source": [
    "#Write it to a csv file\n"
   ]
  },
  {
   "cell_type": "code",
   "execution_count": null,
   "id": "736a0cb1",
   "metadata": {},
   "outputs": [],
   "source": [
    "#Read a pandas dataframe from a csv file, manually set the index column.\n"
   ]
  },
  {
   "cell_type": "markdown",
   "id": "3e6e996e",
   "metadata": {},
   "source": [
    "\n",
    "<div class=\"alert alert-info\">\n",
    "    <b>Note:</b> pandas also supports excel and sql datasources\n",
    "</div>\n",
    "\n",
    "### SQL\n",
    "\n",
    "pd.read_sql( \"SELECT TOP 5 * FROM penguine\", engine)\n",
    "\n",
    "vs\n",
    "\n",
    "penguine.head()\n",
    "\n",
    "SQL: Table, Join, Primary_key(ish)\n",
    "\n",
    "vs \n",
    "\n",
    "Pandas: Dataframe, merge, index\n",
    "\n",
    "\n",
    "## Series vs dataframe\n",
    "series can be though of as a pandas list, with an index, or a one dimensional labeled array\n",
    "dataframe is a pandas two dimensional labeled(indexed) array. Or several series combined using the same label. \n"
   ]
  },
  {
   "cell_type": "code",
   "execution_count": null,
   "id": "db7c7076",
   "metadata": {},
   "outputs": [],
   "source": [
    "# distinct "
   ]
  },
  {
   "cell_type": "markdown",
   "id": "65e87a75",
   "metadata": {},
   "source": [
    "## Digging into the data\n"
   ]
  },
  {
   "cell_type": "code",
   "execution_count": null,
   "id": "cf39a551",
   "metadata": {},
   "outputs": [],
   "source": [
    "#Sorting\n"
   ]
  },
  {
   "cell_type": "code",
   "execution_count": null,
   "id": "14f13207",
   "metadata": {},
   "outputs": [],
   "source": [
    "#filtering \n",
    "\n"
   ]
  },
  {
   "cell_type": "code",
   "execution_count": null,
   "id": "7d9cac79",
   "metadata": {},
   "outputs": [],
   "source": [
    "# meta\n"
   ]
  },
  {
   "cell_type": "code",
   "execution_count": null,
   "id": "5d9af9d2",
   "metadata": {},
   "outputs": [],
   "source": [
    "#Direct plot integration\n",
    "\n",
    "\n"
   ]
  },
  {
   "cell_type": "code",
   "execution_count": null,
   "id": "644cc7ae",
   "metadata": {},
   "outputs": [],
   "source": [
    "#Aggregate\n"
   ]
  },
  {
   "cell_type": "code",
   "execution_count": null,
   "id": "d1b8021b",
   "metadata": {},
   "outputs": [],
   "source": [
    "# fancy\n",
    "\n"
   ]
  },
  {
   "cell_type": "markdown",
   "id": "3f0d7669",
   "metadata": {},
   "source": [
    "### Pandas merge\n",
    "\n",
    "SQL: Join\n",
    "\n",
    "<img src=\"resources/useful/join.png\" style=\"float:right\">\n"
   ]
  },
  {
   "cell_type": "code",
   "execution_count": null,
   "id": "4bf6e0b6",
   "metadata": {},
   "outputs": [],
   "source": [
    "# join\n",
    "\n"
   ]
  },
  {
   "cell_type": "markdown",
   "id": "98914dd3",
   "metadata": {},
   "source": [
    "## Maintaining you dataframe\n",
    "INSERT UPDATE DELETE"
   ]
  },
  {
   "cell_type": "code",
   "execution_count": null,
   "id": "39698ca5",
   "metadata": {},
   "outputs": [],
   "source": [
    "# insert \n",
    "\n",
    "d = {\n",
    "    'survived': [0],\n",
    "    'pclass': [3],\n",
    "    'sex': [\"male\"],\n",
    "    'age': [42.0],\n",
    "    'sibsp': [0],\n",
    "    'parch': [2],\n",
    "    'fare': [3.50],\n",
    "    'embarked': [\"S\"],\n",
    "    'class': [\"Third\"],\n",
    "    'who': [\"man\"],\n",
    "    'adult_male': [True],\n",
    "    'deck': [\"C\"],\n",
    "    'embark_town': [\"Oslo\"],\n",
    "    'alive': [\"yes\"],\n",
    "    'alone': [True]\n",
    "    \n",
    "}\n"
   ]
  },
  {
   "cell_type": "markdown",
   "id": "4d117631",
   "metadata": {},
   "source": [
    "## Best practice: Make sure your index is unique! in the dataframe "
   ]
  },
  {
   "cell_type": "code",
   "execution_count": null,
   "id": "b8f81540",
   "metadata": {},
   "outputs": [],
   "source": [
    "#Update\n",
    "# Cell\n",
    "\n",
    "# #Multicell\n",
    "\n",
    "\n",
    "#row\n",
    "actual_guy =  pd.Series({'survived': 0,\n",
    "    'pclass': 3,\n",
    "    'sex': \"male\",\n",
    "    'age': 42.0,\n",
    "    'sibsp': 0,\n",
    "    'parch': 2,\n",
    "    'fare': 3.50,\n",
    "    'embarked': \"S\",\n",
    "    'class': \"Third\",\n",
    "    'who': \"man\",\n",
    "    'adult_male': True,\n",
    "    'deck': \"C\",\n",
    "    'embark_town': \"Oslo\",\n",
    "    'alive': 1,\n",
    "    'alone': True\n",
    "})\n"
   ]
  },
  {
   "cell_type": "code",
   "execution_count": null,
   "id": "783c04ea",
   "metadata": {},
   "outputs": [],
   "source": [
    "# Delete\n",
    "\n",
    "#Row\n",
    "\n",
    "#Column\n"
   ]
  },
  {
   "cell_type": "code",
   "execution_count": null,
   "id": "b83ebfa8",
   "metadata": {},
   "outputs": [],
   "source": []
  }
 ],
 "metadata": {
  "kernelspec": {
   "display_name": "Python [conda env:acit4420] *",
   "language": "python",
   "name": "conda-env-acit4420-py"
  },
  "language_info": {
   "codemirror_mode": {
    "name": "ipython",
    "version": 3
   },
   "file_extension": ".py",
   "mimetype": "text/x-python",
   "name": "python",
   "nbconvert_exporter": "python",
   "pygments_lexer": "ipython3",
   "version": "3.8.10"
  }
 },
 "nbformat": 4,
 "nbformat_minor": 5
}
