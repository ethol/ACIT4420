{
 "cells": [
  {
   "cell_type": "markdown",
   "id": "464c7144",
   "metadata": {},
   "source": [
    "this is a markdown cell\n",
    "\n",
    "you know this because:\n",
    "\n",
    "# wow, such header, very clear, so summary\n",
    "\n",
    "* bullet point\n",
    "\n",
    "1. numbered list\n",
    "\n",
    "| topic | description |\n",
    "|-------|-------------|\n",
    "| jupyter notebook | IDE| \n"
   ]
  },
  {
   "cell_type": "markdown",
   "id": "0dc07782",
   "metadata": {},
   "source": [
    "$$x = \\frac{n(n+1)}{2}$$\n",
    "\n",
    "$$ \\LaTeX $$\n",
    "\n",
    "this can be very useful when documenting"
   ]
  },
  {
   "cell_type": "code",
   "execution_count": null,
   "id": "0d361f42",
   "metadata": {},
   "outputs": [],
   "source": [
    "%%time\n",
    "toNumber = 10000000\n",
    "sumI = 0\n",
    "\n",
    "for i in range(0, toNumber+1):\n",
    "    sumI += i\n",
    "print(sumI)\n"
   ]
  },
  {
   "cell_type": "code",
   "execution_count": null,
   "id": "31c13516",
   "metadata": {},
   "outputs": [],
   "source": [
    "%%timeit\n",
    "toNumber = 10000000\n",
    "print((toNumber * (toNumber + 1))/2)\n"
   ]
  },
  {
   "cell_type": "markdown",
   "id": "a038632f",
   "metadata": {},
   "source": [
    "## this was done as a demonstration and serves no known useful purpose beyond this "
   ]
  },
  {
   "cell_type": "code",
   "execution_count": null,
   "id": "b38414f5",
   "metadata": {},
   "outputs": [],
   "source": [
    "sumsum = sumI^2\n",
    "sumsum"
   ]
  }
 ],
 "metadata": {
  "kernelspec": {
   "display_name": "Python [conda env:acit4420] *",
   "language": "python",
   "name": "conda-env-acit4420-py"
  },
  "language_info": {
   "codemirror_mode": {
    "name": "ipython",
    "version": 3
   },
   "file_extension": ".py",
   "mimetype": "text/x-python",
   "name": "python",
   "nbconvert_exporter": "python",
   "pygments_lexer": "ipython3",
   "version": "3.8.10"
  }
 },
 "nbformat": 4,
 "nbformat_minor": 5
}
